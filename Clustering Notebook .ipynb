{
 "cells": [
  {
   "cell_type": "code",
   "execution_count": 192,
   "metadata": {},
   "outputs": [],
   "source": [
    "import pandas as pd\n",
    "import os\n",
    "import numpy as np\n",
    "import FlowCal\n",
    "from sklearn.decomposition import PCA \n",
    "from sklearn.preprocessing import MinMaxScaler\n",
    "from sklearn.cluster import KMeans\n",
    "from sklearn.metrics import silhouette_score\n",
    "import matplotlib.pyplot as plt\n",
    "#import fcsparser"
   ]
  },
  {
   "cell_type": "code",
   "execution_count": 146,
   "metadata": {},
   "outputs": [],
   "source": [
    "path_main='./Project_Main/Dane_Rathi_Ankit/'\n",
    "path_list=[]\n",
    "for i in os.listdir(path_main):\n",
    "    path_list.append(path_main+i)\n",
    "path_list=sorted(path_list)\n",
    "columns_keep=['Ba130Di','Ba132Di', 'Ba134Di',\n",
    " 'Ba135Di', 'Ba136Di', 'Ba137Di', 'Ba138Di', 'Bi209Di', 'Ce140Di', 'Dy161Di',\n",
    " 'Dy163Di', 'Dy164Di', 'Er166Di', 'Er168Di', 'Er170Di', 'Eu151Di', 'Eu153Di', 'Gd155Di',\n",
    " 'Gd156Di', 'Gd158Di', 'Gd160Di', 'Ho165Di', 'Ir191Di', 'Ir193Di', 'La139Di', 'Lu175Di', 'Nd142Di',\n",
    " 'Nd144Di', 'Nd145Di', 'Nd146Di', 'Nd148Di',\n",
    " 'Pd102Di', 'Pd104Di', 'Pd105Di', 'Pd106Di', 'Pd108Di', 'Pd110Di', 'Pr141Di', 'Sm147Di', 'Sm149Di', 'Sm152Di',\n",
    " 'Tb159Di', 'Tm169Di', 'Y89Di', 'Yb171Di', 'Yb172Di', 'Yb173Di', 'Yb174Di', 'Yb176Di',]"
   ]
  },
  {
   "cell_type": "code",
   "execution_count": 151,
   "metadata": {
    "scrolled": true
   },
   "outputs": [
    {
     "name": "stdout",
     "output_type": "stream",
     "text": [
      "./Project_Main/Dane_Rathi_Ankit/Sample1_Healthy_UNS.fcs\n",
      "(362901, 52)\n",
      "{'Event_length', 'Time', 'SampleID'}\n",
      "(362901, 49)\n",
      "./Project_Main/Dane_Rathi_Ankit/Sample1_TB_UNS.fcs\n",
      "(377264, 52)\n",
      "{'Event_length', 'Time', 'SampleID'}\n",
      "(740165, 49)\n",
      "./Project_Main/Dane_Rathi_Ankit/Sample2_Healthy_UNS.fcs\n",
      "(328474, 51)\n",
      "{'Event_length', 'Time'}\n",
      "(1068639, 49)\n",
      "./Project_Main/Dane_Rathi_Ankit/Sample2_TB_UNS.fcs\n",
      "(137270, 51)\n",
      "{'Event_length', 'Time'}\n",
      "(1205909, 49)\n",
      "./Project_Main/Dane_Rathi_Ankit/Sample3_Healthy_UNS.fcs\n",
      "(114637, 51)\n",
      "{'Event_length', 'Time'}\n",
      "(1320546, 49)\n",
      "./Project_Main/Dane_Rathi_Ankit/Sample3_TB_UNS.fcs\n",
      "(67964, 51)\n",
      "{'Event_length', 'Time'}\n",
      "(1388510, 49)\n",
      "./Project_Main/Dane_Rathi_Ankit/Sample4_Healthy_UNS.fcs\n",
      "(172968, 52)\n",
      "{'Event_length', 'Time', 'SampleID'}\n",
      "(1561478, 49)\n",
      "./Project_Main/Dane_Rathi_Ankit/Sample4_TB_UNS.fcs\n",
      "(107204, 52)\n",
      "{'Event_length', 'Time', 'SampleID'}\n",
      "(1668682, 49)\n",
      "./Project_Main/Dane_Rathi_Ankit/Sample5_Healthy_UNS.fcs\n",
      "(182502, 52)\n",
      "{'Event_length', 'Time', 'SampleID'}\n",
      "(1851184, 49)\n",
      "./Project_Main/Dane_Rathi_Ankit/Sample5_TB_UNS.fcs\n",
      "(235420, 52)\n",
      "{'Event_length', 'Time', 'SampleID'}\n",
      "(2086604, 49)\n",
      "./Project_Main/Dane_Rathi_Ankit/Sample6_Healthy_UNS.fcs\n",
      "(534634, 51)\n",
      "{'Event_length', 'Time'}\n",
      "(2621238, 49)\n",
      "./Project_Main/Dane_Rathi_Ankit/Sample6_TB _UNS.fcs\n",
      "(246244, 51)\n",
      "{'Event_length', 'Time'}\n",
      "(2867482, 49)\n",
      "./Project_Main/Dane_Rathi_Ankit/Sample7_Healthy_UNS.fcs\n",
      "(138023, 51)\n",
      "{'Event_length', 'Time'}\n",
      "(3005505, 49)\n",
      "./Project_Main/Dane_Rathi_Ankit/Sample7_TB_UNS.fcs\n",
      "(98968, 51)\n",
      "{'Event_length', 'Time'}\n",
      "(3104473, 49)\n"
     ]
    }
   ],
   "source": [
    "df=pd.DataFrame()\n",
    "for path in path_list:\n",
    "    s =FlowCal.io.FCSData(path)\n",
    "    #df_s=pd.DataFrame(s,columns=s.channels)\n",
    "    #meta, s = fcsparser.parse(path_list[5], meta_data_only=False, reformat_meta=False)\n",
    "\n",
    "    df_s=pd.DataFrame(np.array(s).byteswap().newbyteorder(),columns=s.channels)\n",
    "    print(path)\n",
    "    print(df_s.shape)\n",
    "    print(set(df_s.columns).difference(set(columns_keep)))\n",
    "    df_s=df_s[columns_keep]\n",
    "    df=pd.concat([df,df_s],0)\n",
    "    print(df.shape)"
   ]
  },
  {
   "cell_type": "code",
   "execution_count": 156,
   "metadata": {
    "scrolled": true
   },
   "outputs": [
    {
     "name": "stdout",
     "output_type": "stream",
     "text": [
      "(3104473, 49)\n",
      "Ba130Di    0\n",
      "Ba132Di    0\n",
      "Ba134Di    0\n",
      "Ba135Di    0\n",
      "Ba136Di    0\n",
      "Ba137Di    0\n",
      "Ba138Di    0\n",
      "Bi209Di    0\n",
      "Ce140Di    0\n",
      "Dy161Di    0\n",
      "Dy163Di    0\n",
      "Dy164Di    0\n",
      "Er166Di    0\n",
      "Er168Di    0\n",
      "Er170Di    0\n",
      "Eu151Di    0\n",
      "Eu153Di    0\n",
      "Gd155Di    0\n",
      "Gd156Di    0\n",
      "Gd158Di    0\n",
      "Gd160Di    0\n",
      "Ho165Di    0\n",
      "Ir191Di    0\n",
      "Ir193Di    0\n",
      "La139Di    0\n",
      "Lu175Di    0\n",
      "Nd142Di    0\n",
      "Nd144Di    0\n",
      "Nd145Di    0\n",
      "Nd146Di    0\n",
      "Nd148Di    0\n",
      "Pd102Di    0\n",
      "Pd104Di    0\n",
      "Pd105Di    0\n",
      "Pd106Di    0\n",
      "Pd108Di    0\n",
      "Pd110Di    0\n",
      "Pr141Di    0\n",
      "Sm147Di    0\n",
      "Sm149Di    0\n",
      "Sm152Di    0\n",
      "Tb159Di    0\n",
      "Tm169Di    0\n",
      "Y89Di      0\n",
      "Yb171Di    0\n",
      "Yb172Di    0\n",
      "Yb173Di    0\n",
      "Yb174Di    0\n",
      "Yb176Di    0\n",
      "dtype: int64\n"
     ]
    },
    {
     "data": {
      "text/html": [
       "<div>\n",
       "<style scoped>\n",
       "    .dataframe tbody tr th:only-of-type {\n",
       "        vertical-align: middle;\n",
       "    }\n",
       "\n",
       "    .dataframe tbody tr th {\n",
       "        vertical-align: top;\n",
       "    }\n",
       "\n",
       "    .dataframe thead th {\n",
       "        text-align: right;\n",
       "    }\n",
       "</style>\n",
       "<table border=\"1\" class=\"dataframe\">\n",
       "  <thead>\n",
       "    <tr style=\"text-align: right;\">\n",
       "      <th></th>\n",
       "      <th>Ba130Di</th>\n",
       "      <th>Ba132Di</th>\n",
       "      <th>Ba134Di</th>\n",
       "      <th>Ba135Di</th>\n",
       "      <th>Ba136Di</th>\n",
       "      <th>Ba137Di</th>\n",
       "      <th>Ba138Di</th>\n",
       "      <th>Bi209Di</th>\n",
       "      <th>Ce140Di</th>\n",
       "      <th>Dy161Di</th>\n",
       "      <th>...</th>\n",
       "      <th>Sm149Di</th>\n",
       "      <th>Sm152Di</th>\n",
       "      <th>Tb159Di</th>\n",
       "      <th>Tm169Di</th>\n",
       "      <th>Y89Di</th>\n",
       "      <th>Yb171Di</th>\n",
       "      <th>Yb172Di</th>\n",
       "      <th>Yb173Di</th>\n",
       "      <th>Yb174Di</th>\n",
       "      <th>Yb176Di</th>\n",
       "    </tr>\n",
       "  </thead>\n",
       "  <tbody>\n",
       "    <tr>\n",
       "      <th>356842</th>\n",
       "      <td>0.0</td>\n",
       "      <td>7.398203</td>\n",
       "      <td>2.801283</td>\n",
       "      <td>12.587958</td>\n",
       "      <td>52.481136</td>\n",
       "      <td>23.627996</td>\n",
       "      <td>240.446716</td>\n",
       "      <td>37.913368</td>\n",
       "      <td>12108.701172</td>\n",
       "      <td>0.0</td>\n",
       "      <td>...</td>\n",
       "      <td>0.0</td>\n",
       "      <td>0.428878</td>\n",
       "      <td>0.0</td>\n",
       "      <td>0.0</td>\n",
       "      <td>132.364471</td>\n",
       "      <td>0.435866</td>\n",
       "      <td>0.0</td>\n",
       "      <td>0.0</td>\n",
       "      <td>1.023376</td>\n",
       "      <td>0.185069</td>\n",
       "    </tr>\n",
       "  </tbody>\n",
       "</table>\n",
       "<p>1 rows × 49 columns</p>\n",
       "</div>"
      ],
      "text/plain": [
       "        Ba130Di   Ba132Di   Ba134Di    Ba135Di    Ba136Di    Ba137Di  \\\n",
       "356842      0.0  7.398203  2.801283  12.587958  52.481136  23.627996   \n",
       "\n",
       "           Ba138Di    Bi209Di       Ce140Di  Dy161Di  ...  Sm149Di   Sm152Di  \\\n",
       "356842  240.446716  37.913368  12108.701172      0.0  ...      0.0  0.428878   \n",
       "\n",
       "        Tb159Di  Tm169Di       Y89Di   Yb171Di  Yb172Di  Yb173Di   Yb174Di  \\\n",
       "356842      0.0      0.0  132.364471  0.435866      0.0      0.0  1.023376   \n",
       "\n",
       "         Yb176Di  \n",
       "356842  0.185069  \n",
       "\n",
       "[1 rows x 49 columns]"
      ]
     },
     "execution_count": 156,
     "metadata": {},
     "output_type": "execute_result"
    }
   ],
   "source": [
    "print(df.shape)\n",
    "print(df.isnull().sum())\n",
    "df.sample(1)"
   ]
  },
  {
   "cell_type": "code",
   "execution_count": null,
   "metadata": {},
   "outputs": [],
   "source": [
    "#using min-max scaler "
   ]
  },
  {
   "cell_type": "code",
   "execution_count": 159,
   "metadata": {},
   "outputs": [],
   "source": [
    "\n",
    "scaler = MinMaxScaler()\n",
    "X=scaler.fit_transform(df)"
   ]
  },
  {
   "cell_type": "code",
   "execution_count": 167,
   "metadata": {},
   "outputs": [],
   "source": [
    "#df_1=pd.DataFrame(X,columns=df.columns)"
   ]
  },
  {
   "cell_type": "code",
   "execution_count": 169,
   "metadata": {
    "scrolled": true
   },
   "outputs": [
    {
     "data": {
      "text/plain": [
       "Ba130Di    0\n",
       "Ba132Di    0\n",
       "Ba134Di    0\n",
       "Ba135Di    0\n",
       "Ba136Di    0\n",
       "Ba137Di    0\n",
       "Ba138Di    0\n",
       "Bi209Di    0\n",
       "Ce140Di    0\n",
       "Dy161Di    0\n",
       "Dy163Di    0\n",
       "Dy164Di    0\n",
       "Er166Di    0\n",
       "Er168Di    0\n",
       "Er170Di    0\n",
       "Eu151Di    0\n",
       "Eu153Di    0\n",
       "Gd155Di    0\n",
       "Gd156Di    0\n",
       "Gd158Di    0\n",
       "Gd160Di    0\n",
       "Ho165Di    0\n",
       "Ir191Di    0\n",
       "Ir193Di    0\n",
       "La139Di    0\n",
       "Lu175Di    0\n",
       "Nd142Di    0\n",
       "Nd144Di    0\n",
       "Nd145Di    0\n",
       "Nd146Di    0\n",
       "Nd148Di    0\n",
       "Pd102Di    0\n",
       "Pd104Di    0\n",
       "Pd105Di    0\n",
       "Pd106Di    0\n",
       "Pd108Di    0\n",
       "Pd110Di    0\n",
       "Pr141Di    0\n",
       "Sm147Di    0\n",
       "Sm149Di    0\n",
       "Sm152Di    0\n",
       "Tb159Di    0\n",
       "Tm169Di    0\n",
       "Y89Di      0\n",
       "Yb171Di    0\n",
       "Yb172Di    0\n",
       "Yb173Di    0\n",
       "Yb174Di    0\n",
       "Yb176Di    0\n",
       "dtype: int64"
      ]
     },
     "execution_count": 169,
     "metadata": {},
     "output_type": "execute_result"
    }
   ],
   "source": [
    "#df_1.isnull().sum()"
   ]
  },
  {
   "cell_type": "code",
   "execution_count": 206,
   "metadata": {},
   "outputs": [],
   "source": [
    "#arc sin transfromation\n",
    "X=np.arcsin(X)"
   ]
  },
  {
   "cell_type": "code",
   "execution_count": null,
   "metadata": {},
   "outputs": [],
   "source": [
    "#Using PCA to compress the dimensions"
   ]
  },
  {
   "cell_type": "code",
   "execution_count": 207,
   "metadata": {},
   "outputs": [],
   "source": [
    "pca = PCA()\n",
    "X_1=pca.fit_transform(X)\n"
   ]
  },
  {
   "cell_type": "code",
   "execution_count": 208,
   "metadata": {
    "scrolled": true
   },
   "outputs": [
    {
     "name": "stdout",
     "output_type": "stream",
     "text": [
      "             0\n",
      "0    62.428332\n",
      "1    73.188826\n",
      "2    79.716505\n",
      "3    85.117325\n",
      "4    89.614157\n",
      "5    92.953961\n",
      "6    94.249296\n",
      "7    95.230738\n",
      "8    95.792496\n",
      "9    96.288130\n",
      "10   96.742425\n",
      "11   97.054463\n",
      "12   97.345481\n",
      "13   97.624559\n",
      "14   97.864793\n",
      "15   98.093022\n",
      "16   98.311238\n",
      "17   98.515644\n",
      "18   98.686869\n",
      "19   98.837487\n",
      "20   98.961461\n",
      "21   99.078621\n",
      "22   99.183244\n",
      "23   99.280031\n",
      "24   99.370452\n",
      "25   99.450684\n",
      "26   99.522802\n",
      "27   99.589304\n",
      "28   99.638064\n",
      "29   99.683644\n",
      "30   99.725304\n",
      "31   99.760263\n",
      "32   99.794555\n",
      "33   99.827452\n",
      "34   99.858753\n",
      "35   99.885301\n",
      "36   99.910385\n",
      "37   99.930862\n",
      "38   99.950045\n",
      "39   99.963700\n",
      "40   99.972847\n",
      "41   99.981481\n",
      "42   99.986377\n",
      "43   99.990329\n",
      "44   99.993540\n",
      "45   99.996231\n",
      "46   99.998215\n",
      "47   99.999176\n",
      "48  100.000000\n"
     ]
    },
    {
     "data": {
      "text/plain": [
       "<matplotlib.axes._subplots.AxesSubplot at 0x116765d90>"
      ]
     },
     "execution_count": 208,
     "metadata": {},
     "output_type": "execute_result"
    },
    {
     "data": {
      "image/png": "[encoded data removed]",
      "text/plain": [
       "<Figure size 432x288 with 1 Axes>"
      ]
     },
     "metadata": {
      "needs_background": "light"
     },
     "output_type": "display_data"
    }
   ],
   "source": [
    "print(pd.DataFrame(100*np.cumsum(pca.explained_variance_ratio_)))\n",
    "pd.DataFrame(100*np.cumsum(pca.explained_variance_ratio_),columns=['variance_explained']).plot()"
   ]
  },
  {
   "cell_type": "code",
   "execution_count": null,
   "metadata": {},
   "outputs": [],
   "source": [
    "#Top 15 components explain  97.864793 % of variance"
   ]
  },
  {
   "cell_type": "code",
   "execution_count": 209,
   "metadata": {},
   "outputs": [],
   "source": [
    "pca = PCA(n_components=15)\n",
    "X_1=pca.fit_transform(X)"
   ]
  },
  {
   "cell_type": "code",
   "execution_count": 210,
   "metadata": {},
   "outputs": [
    {
     "name": "stdout",
     "output_type": "stream",
     "text": [
      "            0\n",
      "0   62.428332\n",
      "1   73.188826\n",
      "2   79.716505\n",
      "3   85.117325\n",
      "4   89.614157\n",
      "5   92.953961\n",
      "6   94.249296\n",
      "7   95.230738\n",
      "8   95.792496\n",
      "9   96.288130\n",
      "10  96.742425\n",
      "11  97.054460\n",
      "12  97.345476\n",
      "13  97.624553\n",
      "14  97.864776\n"
     ]
    }
   ],
   "source": [
    "print(pd.DataFrame(100*np.cumsum(pca.explained_variance_ratio_)))"
   ]
  },
  {
   "cell_type": "code",
   "execution_count": 211,
   "metadata": {},
   "outputs": [
    {
     "name": "stdout",
     "output_type": "stream",
     "text": [
      "2\n",
      "3\n",
      "4\n",
      "5\n",
      "6\n",
      "7\n",
      "8\n"
     ]
    }
   ],
   "source": [
    "#Fitting K-Means\n",
    "range_n_clusters = np.arange(2,9,1)\n",
    "elbow = []\n",
    "ss = []\n",
    "#df1 = embeddings_bert_lda\n",
    "for n_clusters in range_n_clusters:\n",
    "    #iterating through cluster sizes\n",
    "    print(n_clusters)\n",
    "    clusterer = KMeans(n_clusters = n_clusters, random_state=10)\n",
    "    cluster_labels = clusterer.fit_predict(X_1)\n",
    "    #Finding the average silhouette score\n",
    "    #silhouette_avg = silhouette_score(X_1, cluster_labels)\n",
    "    #ss.append(silhouette_avg)\n",
    "    #print(\"For n_clusters =\", n_clusters,\"The average silhouette_score is :\", silhouette_avg)\n",
    "    #Finding the average SSE\"\n",
    "    elbow.append(clusterer.inertia_) # Inertia: Sum of distances of samples to their closest cluster center\n",
    "\n",
    "# fig.add_subplot(122)\n",
    "# plt.plot(range_n_clusters, ss,'b-',label='Silhouette Score')\n",
    "# plt.xlabel(\"Number of cluster\")\n",
    "# plt.ylabel(\"Silhouette Score\")\n",
    "# plt.legend()\n",
    "# plt.show()"
   ]
  },
  {
   "cell_type": "code",
   "execution_count": 212,
   "metadata": {},
   "outputs": [
    {
     "data": {
      "text/plain": [
       "<matplotlib.legend.Legend at 0x12e8a61d0>"
      ]
     },
     "execution_count": 212,
     "metadata": {},
     "output_type": "execute_result"
    },
    {
     "data": {
      "image/png": "[encoded data removed]",
      "text/plain": [
       "<Figure size 1008x504 with 1 Axes>"
      ]
     },
     "metadata": {
      "needs_background": "light"
     },
     "output_type": "display_data"
    }
   ],
   "source": [
    "fig = plt.figure(figsize=(14,7))\n",
    "fig.add_subplot(121)\n",
    "plt.plot(range_n_clusters, elbow,'b-',label='Sum of squared error')\n",
    "plt.xlabel(\"Number of cluster\")\n",
    "plt.ylabel(\"SSE\")\n",
    "plt.legend()"
   ]
  },
  {
   "cell_type": "code",
   "execution_count": 213,
   "metadata": {},
   "outputs": [
    {
     "name": "stdout",
     "output_type": "stream",
     "text": [
      "6\n"
     ]
    }
   ],
   "source": [
    "#chosing 6 clusters\n",
    "n_clusters=6\n",
    "#iterating through cluster sizes\n",
    "print(n_clusters)\n",
    "clusterer = KMeans(n_clusters = n_clusters, random_state=10)\n",
    "cluster_labels = clusterer.fit_predict(X_1)"
   ]
  },
  {
   "cell_type": "code",
   "execution_count": 219,
   "metadata": {},
   "outputs": [],
   "source": [
    "df['cluster_label']=cluster_labels"
   ]
  },
  {
   "cell_type": "code",
   "execution_count": 239,
   "metadata": {},
   "outputs": [],
   "source": [
    "df.to_csv('data_with_clusters.csv',index=False)"
   ]
  },
  {
   "cell_type": "code",
   "execution_count": null,
   "metadata": {},
   "outputs": [],
   "source": []
  },
  {
   "cell_type": "code",
   "execution_count": null,
   "metadata": {},
   "outputs": [],
   "source": []
  },
  {
   "cell_type": "code",
   "execution_count": null,
   "metadata": {},
   "outputs": [],
   "source": []
  },
  {
   "cell_type": "code",
   "execution_count": null,
   "metadata": {},
   "outputs": [],
   "source": []
  },
  {
   "cell_type": "code",
   "execution_count": null,
   "metadata": {},
   "outputs": [],
   "source": []
  },
  {
   "cell_type": "code",
   "execution_count": 233,
   "metadata": {},
   "outputs": [
    {
     "name": "stdout",
     "output_type": "stream",
     "text": [
      "Uninstalling umap-0.1.1:\r\n",
      "  Successfully uninstalled umap-0.1.1\r\n"
     ]
    }
   ],
   "source": [
    "!pip uninstall umap -y"
   ]
  },
  {
   "cell_type": "code",
   "execution_count": 234,
   "metadata": {
    "scrolled": true
   },
   "outputs": [
    {
     "name": "stdout",
     "output_type": "stream",
     "text": [
      "Collecting umap-learn\n",
      "\u001b[?25l  Downloading https://files.pythonhosted.org/packages/ac/21/e1eb2eb1c624a84f4a23237adb974e94ff7371ee8c178d246194af83fb80/umap-learn-0.4.6.tar.gz (69kB)\n",
      "\u001b[K     |████████████████████████████████| 71kB 76kB/s eta 0:00:01\n",
      "\u001b[?25hRequirement already satisfied: numpy>=1.17 in /Users/jauharim/opt/anaconda3/lib/python3.7/site-packages (from umap-learn) (1.18.4)\n",
      "Requirement already satisfied: scikit-learn>=0.20 in /Users/jauharim/opt/anaconda3/lib/python3.7/site-packages (from umap-learn) (0.21.3)\n",
      "Requirement already satisfied: scipy>=1.3.1 in /Users/jauharim/opt/anaconda3/lib/python3.7/site-packages (from umap-learn) (1.4.1)\n",
      "Collecting numba!=0.47,>=0.46 (from umap-learn)\n",
      "\u001b[?25l  Downloading https://files.pythonhosted.org/packages/da/6e/ff2f4e0e74f6661e98fe119b4d920b0c5f0da3243e6a48095938f12ec8a1/numba-0.51.2-cp37-cp37m-macosx_10_14_x86_64.whl (2.2MB)\n",
      "\u001b[K     |████████████████████████████████| 2.2MB 678kB/s eta 0:00:01\n",
      "\u001b[?25hRequirement already satisfied: joblib>=0.11 in /Users/jauharim/opt/anaconda3/lib/python3.7/site-packages (from scikit-learn>=0.20->umap-learn) (0.13.2)\n",
      "Requirement already satisfied: setuptools in /Users/jauharim/opt/anaconda3/lib/python3.7/site-packages (from numba!=0.47,>=0.46->umap-learn) (41.4.0)\n",
      "Collecting llvmlite<0.35,>=0.34.0.dev0 (from numba!=0.47,>=0.46->umap-learn)\n",
      "\u001b[?25l  Downloading https://files.pythonhosted.org/packages/37/1c/18ab3765b1c60981ed636e7f851c660c3d808f0d3a5870a215f1c74176b2/llvmlite-0.34.0-cp37-cp37m-macosx_10_9_x86_64.whl (18.4MB)\n",
      "\u001b[K     |████████████████████████████████| 18.4MB 5.3MB/s eta 0:00:01\n",
      "\u001b[?25hBuilding wheels for collected packages: umap-learn\n",
      "  Building wheel for umap-learn (setup.py) ... \u001b[?25ldone\n",
      "\u001b[?25h  Created wheel for umap-learn: filename=umap_learn-0.4.6-cp37-none-any.whl size=67951 sha256=2569b8c4f9ce4cec3f679fca6f3a22aafea1bb3e2345b2aee20dfe5cb4dd1ee7\n",
      "  Stored in directory: /Users/jauharim/Library/Caches/pip/wheels/7d/1d/03/34aade9a9b97acddb8e93654eb856dadbf0964406eef8b96e2\n",
      "Successfully built umap-learn\n",
      "Installing collected packages: llvmlite, numba, umap-learn\n",
      "  Found existing installation: llvmlite 0.29.0\n",
      "\u001b[31mERROR: Cannot uninstall 'llvmlite'. It is a distutils installed project and thus we cannot accurately determine which files belong to it which would lead to only a partial uninstall.\u001b[0m\n"
     ]
    }
   ],
   "source": [
    "!pip install umap-learn\n"
   ]
  },
  {
   "cell_type": "code",
   "execution_count": null,
   "metadata": {},
   "outputs": [],
   "source": []
  },
  {
   "cell_type": "code",
   "execution_count": null,
   "metadata": {},
   "outputs": [],
   "source": [
    "#Don't read below this"
   ]
  },
  {
   "cell_type": "code",
   "execution_count": 129,
   "metadata": {
    "scrolled": true
   },
   "outputs": [
    {
     "data": {
      "text/plain": [
       "(235420, 49)"
      ]
     },
     "execution_count": 129,
     "metadata": {},
     "output_type": "execute_result"
    }
   ],
   "source": [
    "df_s.shape"
   ]
  },
  {
   "cell_type": "code",
   "execution_count": 132,
   "metadata": {},
   "outputs": [
    {
     "data": {
      "text/plain": [
       "1596.3265380859375"
      ]
     },
     "execution_count": 132,
     "metadata": {},
     "output_type": "execute_result"
    }
   ],
   "source": [
    "np.max(df_s['Ba134Di'])"
   ]
  },
  {
   "cell_type": "code",
   "execution_count": null,
   "metadata": {},
   "outputs": [],
   "source": [
    "# try:\n",
    "#     df_s=df_s.drop('SampleID',1)\n",
    "# except:\n",
    "#     print('sample id was not present')"
   ]
  },
  {
   "cell_type": "code",
   "execution_count": 97,
   "metadata": {},
   "outputs": [
    {
     "data": {
      "text/html": [
       "<div>\n",
       "<style scoped>\n",
       "    .dataframe tbody tr th:only-of-type {\n",
       "        vertical-align: middle;\n",
       "    }\n",
       "\n",
       "    .dataframe tbody tr th {\n",
       "        vertical-align: top;\n",
       "    }\n",
       "\n",
       "    .dataframe thead th {\n",
       "        text-align: right;\n",
       "    }\n",
       "</style>\n",
       "<table border=\"1\" class=\"dataframe\">\n",
       "  <thead>\n",
       "    <tr style=\"text-align: right;\">\n",
       "      <th></th>\n",
       "      <th>Ba130Di</th>\n",
       "      <th>Ba132Di</th>\n",
       "      <th>Ba134Di</th>\n",
       "      <th>Ba135Di</th>\n",
       "      <th>Ba136Di</th>\n",
       "      <th>Ba137Di</th>\n",
       "      <th>Ba138Di</th>\n",
       "      <th>Bi209Di</th>\n",
       "      <th>Ce140Di</th>\n",
       "      <th>Dy161Di</th>\n",
       "      <th>...</th>\n",
       "      <th>Sm149Di</th>\n",
       "      <th>Sm152Di</th>\n",
       "      <th>Tb159Di</th>\n",
       "      <th>Tm169Di</th>\n",
       "      <th>Y89Di</th>\n",
       "      <th>Yb171Di</th>\n",
       "      <th>Yb172Di</th>\n",
       "      <th>Yb173Di</th>\n",
       "      <th>Yb174Di</th>\n",
       "      <th>Yb176Di</th>\n",
       "    </tr>\n",
       "  </thead>\n",
       "  <tbody>\n",
       "    <tr>\n",
       "      <th>0</th>\n",
       "      <td>0.116391</td>\n",
       "      <td>0.043177</td>\n",
       "      <td>15.714767</td>\n",
       "      <td>36.055271</td>\n",
       "      <td>44.795597</td>\n",
       "      <td>54.101639</td>\n",
       "      <td>354.477905</td>\n",
       "      <td>104.391579</td>\n",
       "      <td>787.279724</td>\n",
       "      <td>4.696529</td>\n",
       "      <td>...</td>\n",
       "      <td>12.007200</td>\n",
       "      <td>3.248522</td>\n",
       "      <td>12.213863</td>\n",
       "      <td>0.824716</td>\n",
       "      <td>244.982483</td>\n",
       "      <td>11.558786</td>\n",
       "      <td>1.772067</td>\n",
       "      <td>13.276553</td>\n",
       "      <td>167.517944</td>\n",
       "      <td>8.957319</td>\n",
       "    </tr>\n",
       "    <tr>\n",
       "      <th>1</th>\n",
       "      <td>0.000000</td>\n",
       "      <td>0.000000</td>\n",
       "      <td>2.333349</td>\n",
       "      <td>2.023951</td>\n",
       "      <td>3.409920</td>\n",
       "      <td>0.000000</td>\n",
       "      <td>16.113514</td>\n",
       "      <td>59.026077</td>\n",
       "      <td>4.071712</td>\n",
       "      <td>14.146554</td>\n",
       "      <td>...</td>\n",
       "      <td>3.561555</td>\n",
       "      <td>0.000000</td>\n",
       "      <td>1.795888</td>\n",
       "      <td>2.583789</td>\n",
       "      <td>206.376480</td>\n",
       "      <td>7.933512</td>\n",
       "      <td>14.107116</td>\n",
       "      <td>12.893358</td>\n",
       "      <td>20.864838</td>\n",
       "      <td>6.588449</td>\n",
       "    </tr>\n",
       "    <tr>\n",
       "      <th>2</th>\n",
       "      <td>0.357182</td>\n",
       "      <td>5.354287</td>\n",
       "      <td>0.826297</td>\n",
       "      <td>7.424251</td>\n",
       "      <td>4.912556</td>\n",
       "      <td>1.538449</td>\n",
       "      <td>34.701256</td>\n",
       "      <td>84.588585</td>\n",
       "      <td>17.966005</td>\n",
       "      <td>0.606728</td>\n",
       "      <td>...</td>\n",
       "      <td>0.000000</td>\n",
       "      <td>3.080777</td>\n",
       "      <td>5.831239</td>\n",
       "      <td>1.253338</td>\n",
       "      <td>116.918571</td>\n",
       "      <td>5.893589</td>\n",
       "      <td>0.000000</td>\n",
       "      <td>11.580085</td>\n",
       "      <td>70.324585</td>\n",
       "      <td>1.466464</td>\n",
       "    </tr>\n",
       "    <tr>\n",
       "      <th>3</th>\n",
       "      <td>0.000000</td>\n",
       "      <td>0.000000</td>\n",
       "      <td>0.541096</td>\n",
       "      <td>0.000000</td>\n",
       "      <td>2.851309</td>\n",
       "      <td>2.851408</td>\n",
       "      <td>12.844688</td>\n",
       "      <td>63.667107</td>\n",
       "      <td>10.164993</td>\n",
       "      <td>0.505030</td>\n",
       "      <td>...</td>\n",
       "      <td>0.037138</td>\n",
       "      <td>0.000000</td>\n",
       "      <td>5.570735</td>\n",
       "      <td>4.416134</td>\n",
       "      <td>115.263718</td>\n",
       "      <td>7.750714</td>\n",
       "      <td>1.525529</td>\n",
       "      <td>20.048733</td>\n",
       "      <td>84.462234</td>\n",
       "      <td>3.973290</td>\n",
       "    </tr>\n",
       "    <tr>\n",
       "      <th>4</th>\n",
       "      <td>0.000000</td>\n",
       "      <td>0.000000</td>\n",
       "      <td>0.023378</td>\n",
       "      <td>1.010205</td>\n",
       "      <td>4.061093</td>\n",
       "      <td>2.788786</td>\n",
       "      <td>35.167439</td>\n",
       "      <td>93.257439</td>\n",
       "      <td>7.875116</td>\n",
       "      <td>0.189044</td>\n",
       "      <td>...</td>\n",
       "      <td>0.000000</td>\n",
       "      <td>0.021410</td>\n",
       "      <td>3.579786</td>\n",
       "      <td>3.397989</td>\n",
       "      <td>75.390556</td>\n",
       "      <td>9.622637</td>\n",
       "      <td>0.656366</td>\n",
       "      <td>10.322533</td>\n",
       "      <td>77.975990</td>\n",
       "      <td>1.405165</td>\n",
       "    </tr>\n",
       "    <tr>\n",
       "      <th>...</th>\n",
       "      <td>...</td>\n",
       "      <td>...</td>\n",
       "      <td>...</td>\n",
       "      <td>...</td>\n",
       "      <td>...</td>\n",
       "      <td>...</td>\n",
       "      <td>...</td>\n",
       "      <td>...</td>\n",
       "      <td>...</td>\n",
       "      <td>...</td>\n",
       "      <td>...</td>\n",
       "      <td>...</td>\n",
       "      <td>...</td>\n",
       "      <td>...</td>\n",
       "      <td>...</td>\n",
       "      <td>...</td>\n",
       "      <td>...</td>\n",
       "      <td>...</td>\n",
       "      <td>...</td>\n",
       "      <td>...</td>\n",
       "      <td>...</td>\n",
       "    </tr>\n",
       "    <tr>\n",
       "      <th>235415</th>\n",
       "      <td>0.000000</td>\n",
       "      <td>1.141685</td>\n",
       "      <td>2.271805</td>\n",
       "      <td>2.639798</td>\n",
       "      <td>4.187185</td>\n",
       "      <td>3.868012</td>\n",
       "      <td>34.734409</td>\n",
       "      <td>24.235722</td>\n",
       "      <td>5.018671</td>\n",
       "      <td>0.000000</td>\n",
       "      <td>...</td>\n",
       "      <td>2.035313</td>\n",
       "      <td>0.058907</td>\n",
       "      <td>2.937473</td>\n",
       "      <td>0.000000</td>\n",
       "      <td>106.233521</td>\n",
       "      <td>4.039288</td>\n",
       "      <td>2.183800</td>\n",
       "      <td>0.000000</td>\n",
       "      <td>151.975967</td>\n",
       "      <td>1.561469</td>\n",
       "    </tr>\n",
       "    <tr>\n",
       "      <th>235416</th>\n",
       "      <td>0.000000</td>\n",
       "      <td>0.000000</td>\n",
       "      <td>1.935500</td>\n",
       "      <td>0.554796</td>\n",
       "      <td>14.086151</td>\n",
       "      <td>8.852049</td>\n",
       "      <td>26.438011</td>\n",
       "      <td>27.220554</td>\n",
       "      <td>696.798035</td>\n",
       "      <td>0.471833</td>\n",
       "      <td>...</td>\n",
       "      <td>8.966029</td>\n",
       "      <td>0.968386</td>\n",
       "      <td>0.000000</td>\n",
       "      <td>0.953140</td>\n",
       "      <td>78.428146</td>\n",
       "      <td>12.173205</td>\n",
       "      <td>1.707253</td>\n",
       "      <td>8.851733</td>\n",
       "      <td>56.498219</td>\n",
       "      <td>1.766774</td>\n",
       "    </tr>\n",
       "    <tr>\n",
       "      <th>235417</th>\n",
       "      <td>0.300467</td>\n",
       "      <td>0.000000</td>\n",
       "      <td>3.636925</td>\n",
       "      <td>11.383309</td>\n",
       "      <td>7.527400</td>\n",
       "      <td>12.653099</td>\n",
       "      <td>83.044617</td>\n",
       "      <td>93.963814</td>\n",
       "      <td>57.301674</td>\n",
       "      <td>0.929788</td>\n",
       "      <td>...</td>\n",
       "      <td>0.364346</td>\n",
       "      <td>21.563347</td>\n",
       "      <td>2.374395</td>\n",
       "      <td>0.000000</td>\n",
       "      <td>57.556778</td>\n",
       "      <td>4.038062</td>\n",
       "      <td>0.949627</td>\n",
       "      <td>0.533694</td>\n",
       "      <td>44.949249</td>\n",
       "      <td>5.159438</td>\n",
       "    </tr>\n",
       "    <tr>\n",
       "      <th>235418</th>\n",
       "      <td>0.000000</td>\n",
       "      <td>0.000000</td>\n",
       "      <td>0.000000</td>\n",
       "      <td>4.314469</td>\n",
       "      <td>2.902569</td>\n",
       "      <td>6.109064</td>\n",
       "      <td>54.402615</td>\n",
       "      <td>71.243073</td>\n",
       "      <td>4.163957</td>\n",
       "      <td>7.152690</td>\n",
       "      <td>...</td>\n",
       "      <td>0.000000</td>\n",
       "      <td>0.000000</td>\n",
       "      <td>12.569806</td>\n",
       "      <td>1.511403</td>\n",
       "      <td>64.014397</td>\n",
       "      <td>0.781805</td>\n",
       "      <td>2.467875</td>\n",
       "      <td>0.000000</td>\n",
       "      <td>78.056183</td>\n",
       "      <td>29.351923</td>\n",
       "    </tr>\n",
       "    <tr>\n",
       "      <th>235419</th>\n",
       "      <td>0.000000</td>\n",
       "      <td>0.000000</td>\n",
       "      <td>2.914522</td>\n",
       "      <td>3.946903</td>\n",
       "      <td>10.783513</td>\n",
       "      <td>8.053786</td>\n",
       "      <td>39.903305</td>\n",
       "      <td>71.859779</td>\n",
       "      <td>252.946136</td>\n",
       "      <td>2.387637</td>\n",
       "      <td>...</td>\n",
       "      <td>9.549902</td>\n",
       "      <td>1.408045</td>\n",
       "      <td>4.648583</td>\n",
       "      <td>0.000000</td>\n",
       "      <td>230.187057</td>\n",
       "      <td>10.609313</td>\n",
       "      <td>1.890189</td>\n",
       "      <td>20.668564</td>\n",
       "      <td>96.078011</td>\n",
       "      <td>10.249595</td>\n",
       "    </tr>\n",
       "  </tbody>\n",
       "</table>\n",
       "<p>235420 rows × 49 columns</p>\n",
       "</div>"
      ],
      "text/plain": [
       "         Ba130Di   Ba132Di    Ba134Di    Ba135Di    Ba136Di    Ba137Di  \\\n",
       "0       0.116391  0.043177  15.714767  36.055271  44.795597  54.101639   \n",
       "1       0.000000  0.000000   2.333349   2.023951   3.409920   0.000000   \n",
       "2       0.357182  5.354287   0.826297   7.424251   4.912556   1.538449   \n",
       "3       0.000000  0.000000   0.541096   0.000000   2.851309   2.851408   \n",
       "4       0.000000  0.000000   0.023378   1.010205   4.061093   2.788786   \n",
       "...          ...       ...        ...        ...        ...        ...   \n",
       "235415  0.000000  1.141685   2.271805   2.639798   4.187185   3.868012   \n",
       "235416  0.000000  0.000000   1.935500   0.554796  14.086151   8.852049   \n",
       "235417  0.300467  0.000000   3.636925  11.383309   7.527400  12.653099   \n",
       "235418  0.000000  0.000000   0.000000   4.314469   2.902569   6.109064   \n",
       "235419  0.000000  0.000000   2.914522   3.946903  10.783513   8.053786   \n",
       "\n",
       "           Ba138Di     Bi209Di     Ce140Di    Dy161Di  ...    Sm149Di  \\\n",
       "0       354.477905  104.391579  787.279724   4.696529  ...  12.007200   \n",
       "1        16.113514   59.026077    4.071712  14.146554  ...   3.561555   \n",
       "2        34.701256   84.588585   17.966005   0.606728  ...   0.000000   \n",
       "3        12.844688   63.667107   10.164993   0.505030  ...   0.037138   \n",
       "4        35.167439   93.257439    7.875116   0.189044  ...   0.000000   \n",
       "...            ...         ...         ...        ...  ...        ...   \n",
       "235415   34.734409   24.235722    5.018671   0.000000  ...   2.035313   \n",
       "235416   26.438011   27.220554  696.798035   0.471833  ...   8.966029   \n",
       "235417   83.044617   93.963814   57.301674   0.929788  ...   0.364346   \n",
       "235418   54.402615   71.243073    4.163957   7.152690  ...   0.000000   \n",
       "235419   39.903305   71.859779  252.946136   2.387637  ...   9.549902   \n",
       "\n",
       "          Sm152Di    Tb159Di   Tm169Di       Y89Di    Yb171Di    Yb172Di  \\\n",
       "0        3.248522  12.213863  0.824716  244.982483  11.558786   1.772067   \n",
       "1        0.000000   1.795888  2.583789  206.376480   7.933512  14.107116   \n",
       "2        3.080777   5.831239  1.253338  116.918571   5.893589   0.000000   \n",
       "3        0.000000   5.570735  4.416134  115.263718   7.750714   1.525529   \n",
       "4        0.021410   3.579786  3.397989   75.390556   9.622637   0.656366   \n",
       "...           ...        ...       ...         ...        ...        ...   \n",
       "235415   0.058907   2.937473  0.000000  106.233521   4.039288   2.183800   \n",
       "235416   0.968386   0.000000  0.953140   78.428146  12.173205   1.707253   \n",
       "235417  21.563347   2.374395  0.000000   57.556778   4.038062   0.949627   \n",
       "235418   0.000000  12.569806  1.511403   64.014397   0.781805   2.467875   \n",
       "235419   1.408045   4.648583  0.000000  230.187057  10.609313   1.890189   \n",
       "\n",
       "          Yb173Di     Yb174Di    Yb176Di  \n",
       "0       13.276553  167.517944   8.957319  \n",
       "1       12.893358   20.864838   6.588449  \n",
       "2       11.580085   70.324585   1.466464  \n",
       "3       20.048733   84.462234   3.973290  \n",
       "4       10.322533   77.975990   1.405165  \n",
       "...           ...         ...        ...  \n",
       "235415   0.000000  151.975967   1.561469  \n",
       "235416   8.851733   56.498219   1.766774  \n",
       "235417   0.533694   44.949249   5.159438  \n",
       "235418   0.000000   78.056183  29.351923  \n",
       "235419  20.668564   96.078011  10.249595  \n",
       "\n",
       "[235420 rows x 49 columns]"
      ]
     },
     "execution_count": 97,
     "metadata": {},
     "output_type": "execute_result"
    }
   ],
   "source": [
    "df_s"
   ]
  },
  {
   "cell_type": "code",
   "execution_count": null,
   "metadata": {},
   "outputs": [],
   "source": []
  }
 ],
 "metadata": {
  "kernelspec": {
   "display_name": "Python 3",
   "language": "python",
   "name": "python3"
  },
  "language_info": {
   "codemirror_mode": {
    "name": "ipython",
    "version": 3
   },
   "file_extension": ".py",
   "mimetype": "text/x-python",
   "name": "python",
   "nbconvert_exporter": "python",
   "pygments_lexer": "ipython3",
   "version": "3.8.3"
  }
 },
 "nbformat": 4,
 "nbformat_minor": 2
}
